{
  "cells": [
    {
      "cell_type": "markdown",
      "id": "f3b14cf6-a36f-48a4-994c-f37d0a8dea41",
      "metadata": {
        "id": "f3b14cf6-a36f-48a4-994c-f37d0a8dea41"
      },
      "source": [
        "# DesignSafe Template Exercise"
      ]
    },
    {
      "cell_type": "markdown",
      "id": "69268af7",
      "metadata": {
        "id": "69268af7"
      },
      "source": [
        "**Exercise:** \n",
        "[![Try on DesignSafe](https://raw.githubusercontent.com/DesignSafe-CI/training-template/main/DesignSafe-Badge.svg)](https://jupyter.designsafe-ci.org/hub/user-redirect/lab/tree/CommunityData/Training/template/01-template-exercise.ipynb)\n",
        "\n",
        "**Solution:** [![Try on DesignSafe](https://raw.githubusercontent.com/DesignSafe-CI/training-template/main/DesignSafe-Badge.svg)](https://jupyter.designsafe-ci.org/hub/user-redirect/lab/tree/CommunityData/Training/template/01-template.ipynb)"
      ]
    },
    {
      "cell_type": "markdown",
      "id": "40f2e500",
      "metadata": {
        "id": "40f2e500"
      },
      "source": [
        "### Install packages"
      ]
    },
    {
      "cell_type": "code",
      "execution_count": null,
      "id": "f7f25036",
      "metadata": {
        "colab": {
          "base_uri": "https://localhost:8080/"
        },
        "id": "f7f25036",
        "outputId": "7196f83f-b0f9-4706-e2cb-68bc53756e73"
      },
      "outputs": [],
      "source": [
        "!pip3 install pandas scikit-learn matplotlib --quiet --user"
      ]
    },
    {
      "cell_type": "markdown",
      "id": "6c4b8bdd-ae18-4748-af53-893cb930dbd0",
      "metadata": {
        "id": "6c4b8bdd-ae18-4748-af53-893cb930dbd0"
      },
      "source": [
        "## Example boosting model\n",
        "\n",
        "An example form of the boosting model is:\n",
        "\n",
        "$$ f(x) = \\sum_{k=1}^K \\alpha_k h_k(x) $$\n",
        "\n",
        "Where:\n",
        "- $f(x)$ is the prediction for input $ x $\n",
        "- $ \\alpha_k $ is the weight of the $ k $-th weak learner\n",
        "- $ h_k(x) $ is the prediction of the $ k $-th weak learner\n",
        "- $ K $ is the total number of weak learners"
      ]
    },
    {
      "cell_type": "markdown",
      "id": "421c4122",
      "metadata": {},
      "source": [
        "## Exercise:\n",
        "Consider a boosting model with three weak learners as implemented in the code above. The model combines:\n",
        "\n",
        "A quadratic function ($h_1(x) = x^2$) with weight $\\alpha_1 = 0.3$\n",
        "A sine function ($h_2(x) = \\sin(x)$) with weight $\\alpha_2 = 0.5$\n",
        "A linear function ($h_3(x) = x$) with weight $\\alpha_3 = 0.2$\n",
        "\n",
        "## Questions:\n",
        "\n",
        "- Write an expression for the complete model $f(x)$.\n",
        "- Calculate $f(0)$ and explain why this value makes sense given the component functions.\n",
        "- Using the provided code, modify the model to include a new weak learner of your choice and observe how it affects the output."
      ]
    },
    {
      "cell_type": "code",
      "execution_count": null,
      "id": "a36c3350-9056-445f-8245-83a5572c2d11",
      "metadata": {
        "colab": {
          "base_uri": "https://localhost:8080/",
          "height": 75
        },
        "id": "a36c3350-9056-445f-8245-83a5572c2d11",
        "outputId": "3b71182b-3182-4e18-d3e5-b1c81c1d1fca"
      },
      "outputs": [],
      "source": [
        "import numpy as np\n",
        "import matplotlib.pyplot as plt\n",
        "\n",
        "class SimpleBoostingModel:\n",
        "    def __init__(self, K):\n",
        "        self.K = K  # Number of weak learners\n",
        "        self.alphas = []  # Weights for each learner\n",
        "        self.weak_learners = []  # Store the weak learners\n",
        "    \n",
        "    def add_weak_learner(self, h_k, alpha_k):\n",
        "        \"\"\"Add a weak learner and its weight\"\"\"\n",
        "        self.weak_learners.append(h_k)\n",
        "        self.alphas.append(alpha_k)\n",
        "    \n",
        "    def predict(self, x):\n",
        "        \"\"\"Calculate f(x) using the boosting formula\"\"\"\n",
        "        result = 0\n",
        "        for alpha_k, h_k in zip(self.alphas, self.weak_learners):\n",
        "            result += alpha_k * h_k(x)\n",
        "        return result\n",
        "\n",
        "# Example usage\n",
        "def h1(x): # write for x^2\n",
        "def h2(x): # sin (x)\n",
        "def h3(x): # x\n",
        "\n",
        "# Create and configure the model\n",
        "model = SimpleBoostingModel(K=3)\n",
        "model.add_weak_learner(h1, 0.3)\n",
        "model.add_weak_learner(h2, 0.5)\n",
        "model.add_weak_learner(h3, 0.2)\n",
        "\n",
        "# Generate points for visualization\n",
        "x = np.linspace(-5, 5, 100)\n",
        "y = [model.predict(xi) for xi in x]\n",
        "\n",
        "# Plot the results\n",
        "plt.figure(figsize=(10, 6))\n",
        "plt.plot(x, y, label='Combined model f(x)')\n",
        "plt.grid(True)\n",
        "plt.legend()\n",
        "plt.title('Boosting Model Output')\n",
        "plt.xlabel('x')\n",
        "plt.ylabel('f(x)')"
      ]
    }
  ],
  "metadata": {
    "IMAGE_NAME": "taccsciapps/ds-nb-img:base-0.1.2",
    "UUID": "74a50b78-3e8a-11ed-8804-4effbeb9a4da",
    "colab": {
      "provenance": []
    },
    "kernelspec": {
      "display_name": "Python 3 (ipykernel)",
      "language": "python",
      "name": "python3"
    },
    "language_info": {
      "codemirror_mode": {
        "name": "ipython",
        "version": 3
      },
      "file_extension": ".py",
      "mimetype": "text/x-python",
      "name": "python",
      "nbconvert_exporter": "python",
      "pygments_lexer": "ipython3",
      "version": "3.11.4"
    }
  },
  "nbformat": 4,
  "nbformat_minor": 5
}
